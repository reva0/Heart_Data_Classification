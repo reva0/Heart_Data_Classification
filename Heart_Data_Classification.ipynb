{
 "cells": [
  {
   "cell_type": "markdown",
   "metadata": {},
   "source": [
    "#### Import libraries"
   ]
  },
  {
   "cell_type": "code",
   "execution_count": 92,
   "metadata": {},
   "outputs": [],
   "source": [
    "import numpy as np\n",
    "import pandas as pd\n",
    "from sklearn.model_selection import train_test_split\n",
    "from sklearn.tree import DecisionTreeClassifier\n",
    "from sklearn.ensemble import GradientBoostingClassifier\n",
    "from sklearn.metrics import accuracy_score, confusion_matrix\n",
    "import matplotlib.pyplot as plt\n",
    "from matplotlib.legend_handler import HandlerLine2D\n",
    "%matplotlib inline"
   ]
  },
  {
   "cell_type": "markdown",
   "metadata": {},
   "source": [
    "## Import Data"
   ]
  },
  {
   "cell_type": "code",
   "execution_count": 93,
   "metadata": {},
   "outputs": [
    {
     "data": {
      "text/html": [
       "<div>\n",
       "<style scoped>\n",
       "    .dataframe tbody tr th:only-of-type {\n",
       "        vertical-align: middle;\n",
       "    }\n",
       "\n",
       "    .dataframe tbody tr th {\n",
       "        vertical-align: top;\n",
       "    }\n",
       "\n",
       "    .dataframe thead th {\n",
       "        text-align: right;\n",
       "    }\n",
       "</style>\n",
       "<table border=\"1\" class=\"dataframe\">\n",
       "  <thead>\n",
       "    <tr style=\"text-align: right;\">\n",
       "      <th></th>\n",
       "      <th>Age</th>\n",
       "      <th>Sex</th>\n",
       "      <th>ChestPain</th>\n",
       "      <th>BloodPressure</th>\n",
       "      <th>SerumCholestoral</th>\n",
       "      <th>FastingBloodSugar</th>\n",
       "      <th>RestingEKG</th>\n",
       "      <th>MaxHeartRate</th>\n",
       "      <th>ExerciseInducedAngina</th>\n",
       "      <th>STDepressionvsRest</th>\n",
       "      <th>DerivativeofPeakExerciseST</th>\n",
       "      <th>VesselsColoredbyFluoroscopy</th>\n",
       "      <th>Thal</th>\n",
       "      <th>HeartDisease</th>\n",
       "    </tr>\n",
       "  </thead>\n",
       "  <tbody>\n",
       "    <tr>\n",
       "      <th>0</th>\n",
       "      <td>70.0</td>\n",
       "      <td>1.0</td>\n",
       "      <td>4.0</td>\n",
       "      <td>130.0</td>\n",
       "      <td>322.0</td>\n",
       "      <td>0.0</td>\n",
       "      <td>2.0</td>\n",
       "      <td>109.0</td>\n",
       "      <td>0.0</td>\n",
       "      <td>2.4</td>\n",
       "      <td>2.0</td>\n",
       "      <td>3.0</td>\n",
       "      <td>3.0</td>\n",
       "      <td>2</td>\n",
       "    </tr>\n",
       "    <tr>\n",
       "      <th>1</th>\n",
       "      <td>67.0</td>\n",
       "      <td>0.0</td>\n",
       "      <td>3.0</td>\n",
       "      <td>115.0</td>\n",
       "      <td>564.0</td>\n",
       "      <td>0.0</td>\n",
       "      <td>2.0</td>\n",
       "      <td>160.0</td>\n",
       "      <td>0.0</td>\n",
       "      <td>1.6</td>\n",
       "      <td>2.0</td>\n",
       "      <td>0.0</td>\n",
       "      <td>7.0</td>\n",
       "      <td>1</td>\n",
       "    </tr>\n",
       "    <tr>\n",
       "      <th>2</th>\n",
       "      <td>57.0</td>\n",
       "      <td>1.0</td>\n",
       "      <td>2.0</td>\n",
       "      <td>124.0</td>\n",
       "      <td>261.0</td>\n",
       "      <td>0.0</td>\n",
       "      <td>0.0</td>\n",
       "      <td>141.0</td>\n",
       "      <td>0.0</td>\n",
       "      <td>0.3</td>\n",
       "      <td>1.0</td>\n",
       "      <td>0.0</td>\n",
       "      <td>7.0</td>\n",
       "      <td>2</td>\n",
       "    </tr>\n",
       "    <tr>\n",
       "      <th>3</th>\n",
       "      <td>64.0</td>\n",
       "      <td>1.0</td>\n",
       "      <td>4.0</td>\n",
       "      <td>128.0</td>\n",
       "      <td>263.0</td>\n",
       "      <td>0.0</td>\n",
       "      <td>0.0</td>\n",
       "      <td>105.0</td>\n",
       "      <td>1.0</td>\n",
       "      <td>0.2</td>\n",
       "      <td>2.0</td>\n",
       "      <td>1.0</td>\n",
       "      <td>7.0</td>\n",
       "      <td>1</td>\n",
       "    </tr>\n",
       "    <tr>\n",
       "      <th>4</th>\n",
       "      <td>74.0</td>\n",
       "      <td>0.0</td>\n",
       "      <td>2.0</td>\n",
       "      <td>120.0</td>\n",
       "      <td>269.0</td>\n",
       "      <td>0.0</td>\n",
       "      <td>2.0</td>\n",
       "      <td>121.0</td>\n",
       "      <td>1.0</td>\n",
       "      <td>0.2</td>\n",
       "      <td>1.0</td>\n",
       "      <td>1.0</td>\n",
       "      <td>3.0</td>\n",
       "      <td>1</td>\n",
       "    </tr>\n",
       "  </tbody>\n",
       "</table>\n",
       "</div>"
      ],
      "text/plain": [
       "    Age  Sex  ChestPain  BloodPressure  SerumCholestoral  FastingBloodSugar  \\\n",
       "0  70.0  1.0        4.0          130.0             322.0                0.0   \n",
       "1  67.0  0.0        3.0          115.0             564.0                0.0   \n",
       "2  57.0  1.0        2.0          124.0             261.0                0.0   \n",
       "3  64.0  1.0        4.0          128.0             263.0                0.0   \n",
       "4  74.0  0.0        2.0          120.0             269.0                0.0   \n",
       "\n",
       "   RestingEKG  MaxHeartRate  ExerciseInducedAngina  STDepressionvsRest  \\\n",
       "0         2.0         109.0                    0.0                 2.4   \n",
       "1         2.0         160.0                    0.0                 1.6   \n",
       "2         0.0         141.0                    0.0                 0.3   \n",
       "3         0.0         105.0                    1.0                 0.2   \n",
       "4         2.0         121.0                    1.0                 0.2   \n",
       "\n",
       "   DerivativeofPeakExerciseST  VesselsColoredbyFluoroscopy  Thal  HeartDisease  \n",
       "0                         2.0                          3.0   3.0             2  \n",
       "1                         2.0                          0.0   7.0             1  \n",
       "2                         1.0                          0.0   7.0             2  \n",
       "3                         2.0                          1.0   7.0             1  \n",
       "4                         1.0                          1.0   3.0             1  "
      ]
     },
     "execution_count": 93,
     "metadata": {},
     "output_type": "execute_result"
    }
   ],
   "source": [
    "df = pd.read_csv('Heart_Data.txt')\n",
    "df.head()"
   ]
  },
  {
   "cell_type": "code",
   "execution_count": 94,
   "metadata": {},
   "outputs": [],
   "source": [
    "df['HeartDisease'] = df['HeartDisease'].astype('category')"
   ]
  },
  {
   "cell_type": "markdown",
   "metadata": {},
   "source": [
    "All the data is already in numerical format, and there are no categorical features so we can pass this data as is into a decision tree model for training."
   ]
  },
  {
   "cell_type": "code",
   "execution_count": 95,
   "metadata": {},
   "outputs": [],
   "source": [
    "X=df.drop(['HeartDisease'],axis=1)\n",
    "y=df['HeartDisease']"
   ]
  },
  {
   "cell_type": "markdown",
   "metadata": {},
   "source": [
    "### Train Decision Tree\n",
    "Now we will train the decision tree on the entire set:"
   ]
  },
  {
   "cell_type": "markdown",
   "metadata": {},
   "source": [
    "### Split into training/testing set"
   ]
  },
  {
   "cell_type": "code",
   "execution_count": 96,
   "metadata": {},
   "outputs": [],
   "source": [
    "X_train, X_test, y_train, y_test = train_test_split(X, y,test_size=0.3)"
   ]
  },
  {
   "cell_type": "code",
   "execution_count": 97,
   "metadata": {},
   "outputs": [
    {
     "data": {
      "text/plain": [
       "DecisionTreeClassifier(class_weight=None, criterion='gini', max_depth=None,\n",
       "            max_features=None, max_leaf_nodes=None,\n",
       "            min_impurity_decrease=0.0, min_impurity_split=None,\n",
       "            min_samples_leaf=1, min_samples_split=2,\n",
       "            min_weight_fraction_leaf=0.0, presort=False, random_state=None,\n",
       "            splitter='best')"
      ]
     },
     "execution_count": 97,
     "metadata": {},
     "output_type": "execute_result"
    }
   ],
   "source": [
    "tree = DecisionTreeClassifier() #building the decision tree\n",
    "tree.fit(X_train,y_train)"
   ]
  },
  {
   "cell_type": "code",
   "execution_count": 98,
   "metadata": {},
   "outputs": [],
   "source": [
    "y_pred=tree.predict(X_test)"
   ]
  },
  {
   "cell_type": "markdown",
   "metadata": {},
   "source": [
    "### Evaluate model performance"
   ]
  },
  {
   "cell_type": "code",
   "execution_count": 99,
   "metadata": {},
   "outputs": [
    {
     "name": "stdout",
     "output_type": "stream",
     "text": [
      "Model Accuracy: 62.96%\n"
     ]
    }
   ],
   "source": [
    "acc = accuracy_score(y_test, y_pred)*100\n",
    "print ('Model Accuracy: {}%'.format(round(acc,2)))"
   ]
  },
  {
   "cell_type": "markdown",
   "metadata": {},
   "source": [
    "# Gradient Boosting classifier"
   ]
  },
  {
   "cell_type": "code",
   "execution_count": 100,
   "metadata": {},
   "outputs": [
    {
     "data": {
      "text/plain": [
       "GradientBoostingClassifier(criterion='friedman_mse', init=None,\n",
       "              learning_rate=0.1, loss='deviance', max_depth=3,\n",
       "              max_features=None, max_leaf_nodes=None,\n",
       "              min_impurity_decrease=0.0, min_impurity_split=None,\n",
       "              min_samples_leaf=1, min_samples_split=2,\n",
       "              min_weight_fraction_leaf=0.0, n_estimators=400,\n",
       "              presort='auto', random_state=None, subsample=1.0, verbose=0,\n",
       "              warm_start=False)"
      ]
     },
     "execution_count": 100,
     "metadata": {},
     "output_type": "execute_result"
    }
   ],
   "source": [
    "model = GradientBoostingClassifier(n_estimators=400)\n",
    "model.fit(X_train, y_train)"
   ]
  },
  {
   "cell_type": "code",
   "execution_count": 101,
   "metadata": {},
   "outputs": [],
   "source": [
    "y_pred_gb= model.predict(X_test)"
   ]
  },
  {
   "cell_type": "code",
   "execution_count": 102,
   "metadata": {},
   "outputs": [
    {
     "name": "stdout",
     "output_type": "stream",
     "text": [
      "Model Accuracy: 77.78%\n"
     ]
    }
   ],
   "source": [
    "acc_gb= accuracy_score(y_test, y_pred_gb)*100\n",
    "print ('Model Accuracy: {}%'.format(round(acc_gb,2)))"
   ]
  },
  {
   "cell_type": "code",
   "execution_count": 103,
   "metadata": {},
   "outputs": [
    {
     "name": "stdout",
     "output_type": "stream",
     "text": [
      "[[27 18]\n",
      " [12 24]]\n"
     ]
    }
   ],
   "source": [
    "cm_dt = confusion_matrix(y_pred,y_test, labels=y.cat.categories)\n",
    "print(cm_dt)"
   ]
  },
  {
   "cell_type": "code",
   "execution_count": 104,
   "metadata": {},
   "outputs": [
    {
     "data": {
      "image/png": "[encoded data removed]",
      "text/plain": [
       "<Figure size 432x432 with 2 Axes>"
      ]
     },
     "metadata": {},
     "output_type": "display_data"
    }
   ],
   "source": [
    "plt.figure(figsize=(6,6))\n",
    "plt.imshow(cm_dt, interpolation='nearest', cmap=plt.cm.Blues)\n",
    "plt.title('Confusion Matrix for \\nSingle Decision Tree', fontsize=15)\n",
    "plt.colorbar()\n",
    "tick_marks = np.arange(len(y.unique()))\n",
    "plt.xticks(tick_marks, y.unique(), rotation=90, fontsize=12)\n",
    "plt.yticks(tick_marks, y.unique(), fontsize=12)\n",
    "plt.xlabel('True Label', fontsize=15)\n",
    "plt.ylabel('Predicted Label', fontsize=15)\n",
    "data='Visualising in a better way which '\n",
    "for i in range(len(cm_dt)):\n",
    "    for j in range(len(cm_dt[i])):\n",
    "        color = 'black'   \n",
    "        if cm_dt[i][j] > 5:\n",
    "            color = 'white'\n",
    "        plt.text(j, i, format(cm_dt[i][j]), \n",
    "                horizontalalignment='center',\n",
    "                color=color, fontsize=15)"
   ]
  },
  {
   "cell_type": "code",
   "execution_count": 105,
   "metadata": {},
   "outputs": [
    {
     "name": "stdout",
     "output_type": "stream",
     "text": [
      "[[33 12]\n",
      " [ 6 30]]\n"
     ]
    }
   ],
   "source": [
    "cm_gb = confusion_matrix(y_pred_gb,y_test, labels=y.cat.categories)\n",
    "print(cm_gb)"
   ]
  },
  {
   "cell_type": "code",
   "execution_count": 106,
   "metadata": {},
   "outputs": [
    {
     "data": {
      "image/png": "[encoded data removed]",
      "text/plain": [
       "<Figure size 432x432 with 2 Axes>"
      ]
     },
     "metadata": {},
     "output_type": "display_data"
    }
   ],
   "source": [
    "plt.figure(figsize=(6,6))\n",
    "plt.imshow(cm_gb, interpolation='nearest', cmap=plt.cm.Blues)\n",
    "plt.title('Confusion Matrix for \\nGradient Boosting', fontsize=15)\n",
    "plt.colorbar()\n",
    "tick_marks = np.arange(len(y.unique()))\n",
    "plt.xticks(tick_marks, y.unique(), rotation=90, fontsize=12)\n",
    "plt.yticks(tick_marks, y.unique(), fontsize=12)\n",
    "plt.xlabel('True Label', fontsize=15)\n",
    "plt.ylabel('Predicted Label', fontsize=15)\n",
    "data='Visualising in a better way which '\n",
    "for i in range(len(cm_gb)):\n",
    "    for j in range(len(cm_gb[i])):\n",
    "        color = 'black'   \n",
    "        if cm_gb[i][j] > 5:\n",
    "            color = 'white'\n",
    "        plt.text(j, i, format(cm_gb[i][j]), \n",
    "                horizontalalignment='center',\n",
    "                color=color, fontsize=15)"
   ]
  },
  {
   "cell_type": "code",
   "execution_count": 107,
   "metadata": {},
   "outputs": [],
   "source": [
    "def bias(y_predict,y):\n",
    "    y_predict = np.array(y_predict)\n",
    "    y = np.array(y)\n",
    "    return np.mean(np.power((y_predict-y),2))\n",
    "\n",
    "\n",
    "#this function calculate the variance\n",
    "def variance(y_predict,y):\n",
    "    y_predict = np.array(y_predict)\n",
    "    return np.var(y_predict)\n"
   ]
  },
  {
   "cell_type": "code",
   "execution_count": 114,
   "metadata": {},
   "outputs": [],
   "source": [
    "bias_gb=[]\n",
    "var_gb=[]\n",
    "total_gb=[]\n",
    "j=0\n",
    "for k in range(1,100):  #range starts from 1 since since atleast 1 estimator is required for Gradient boosting regression\n",
    "    model_gb = GradientBoostingClassifier(n_estimators=k)\n",
    "    model_gb.fit(X_train,y_train)\n",
    "    predictions_test = model_gb.predict(X_test) # X_train # X_test\n",
    "    predictions_train = model_gb.predict(X_train) # X_train # X_test\n",
    "  \n",
    "    y_test_k=y_test\n",
    "    y_predict_k=predictions_test\n",
    "    bia_k = bias(y_predict_k,y_test_k)\n",
    "    bias_gb.append(bia_k)\n",
    "    var_k = variance(y_predict_k,y_test_k)\n",
    "    var_gb.append(var_k)\n",
    "    total_k = bia_k+var_k\n",
    "    total_gb.append(total_k)"
   ]
  },
  {
   "cell_type": "code",
   "execution_count": 115,
   "metadata": {},
   "outputs": [
    {
     "data": {
      "image/png": "[encoded data removed]",
      "text/plain": [
       "<Figure size 720x360 with 1 Axes>"
      ]
     },
     "metadata": {},
     "output_type": "display_data"
    }
   ],
   "source": [
    "k=list(range(1,100))\n",
    "plt.figure(figsize=(10, 5))\n",
    "plt.plot(k, bias_gb,color='g',label=\"bias\")\n",
    "plt.plot(k, var_gb,color='r',label='variance')\n",
    "plt.plot(k, total_gb,color='b',label='total')\n",
    "plt.xlabel(\"No of estimators\")\n",
    "plt.ylabel(\"Error\")\n",
    "plt.title(\"Bias and variance tradeoff for Gradient Boosting\")\n",
    "plt.axis((0,50,0,0.5))\n",
    "plt.legend()\n",
    "plt.show()"
   ]
  },
  {
   "cell_type": "markdown",
   "metadata": {},
   "source": [
    "# Hyperparameter Tuning"
   ]
  },
  {
   "cell_type": "markdown",
   "metadata": {},
   "source": [
    "Tuning No of estimators"
   ]
  },
  {
   "cell_type": "code",
   "execution_count": 62,
   "metadata": {},
   "outputs": [],
   "source": [
    "accuracy_ne=[]\n",
    "\n",
    "n_estimator = [1, 2, 4, 8, 16, 32, 64, 100, 150, 200,250,300,400,500,600,750,900,1050]\n",
    "\n",
    "for n_est in n_estimator:\n",
    "    model_tuning_est = GradientBoostingClassifier(n_estimators=n_est,learning_rate=0.1)\n",
    "    model_tuning_est.fit(X_train,y_train)\n",
    "        \n",
    "    pred_tune_est_test = model_tuning_est.predict(X_test)\n",
    "    \n",
    "    accuracy_ne.append(accuracy_score(y_test, pred_tune_est_test)*100)"
   ]
  },
  {
   "cell_type": "code",
   "execution_count": 63,
   "metadata": {},
   "outputs": [
    {
     "data": {
      "image/png": "[encoded data removed]",
      "text/plain": [
       "<Figure size 432x288 with 1 Axes>"
      ]
     },
     "metadata": {},
     "output_type": "display_data"
    }
   ],
   "source": [
    "y=accuracy_ne\n",
    "x=n_estimator\n",
    "plt.plot(x, y)\n",
    "plt.yscale('linear')\n",
    "plt.xlabel('No of estimator')\n",
    "plt.ylabel('Accuracy')\n",
    "plt.title('Tuning No of estimator')\n",
    "plt.grid(True)\n",
    "plt.show()"
   ]
  },
  {
   "cell_type": "code",
   "execution_count": null,
   "metadata": {},
   "outputs": [],
   "source": []
  }
 ],
 "metadata": {
  "anaconda-cloud": {},
  "celltoolbar": "Raw Cell Format",
  "kernelspec": {
   "display_name": "Python 3",
   "language": "python",
   "name": "python3"
  },
  "language_info": {
   "codemirror_mode": {
    "name": "ipython",
    "version": 3
   },
   "file_extension": ".py",
   "mimetype": "text/x-python",
   "name": "python",
   "nbconvert_exporter": "python",
   "pygments_lexer": "ipython3",
   "version": "3.6.5"
  },
  "widgets": {
   "state": {},
   "version": "1.1.2"
  }
 },
 "nbformat": 4,
 "nbformat_minor": 1
}
